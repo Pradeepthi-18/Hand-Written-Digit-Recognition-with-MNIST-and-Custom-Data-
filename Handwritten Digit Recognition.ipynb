{
 "cells": [
  {
   "cell_type": "markdown",
   "id": "bcdf1dbf-1867-4ad3-8834-9e29a4538502",
   "metadata": {},
   "source": [
    "## Steps \n",
    "1.Screen Capture\n",
    "\n",
    "2.Generate Dataset and load it\n",
    "   \n",
    "3.Fit the model using SVC and calculate accuracy \n",
    "\n",
    "4.Prediction of image drawn in paint"
   ]
  },
  {
   "cell_type": "markdown",
   "id": "51c2686b-8dd2-4755-9978-ae586aabe4a0",
   "metadata": {},
   "source": [
    "## 1.Screen Capture"
   ]
  },
  {
   "cell_type": "code",
   "execution_count": 30,
   "id": "5b991a42-d5f8-49cf-883c-6ddd56f8a7b3",
   "metadata": {},
   "outputs": [
    {
     "name": "stdout",
     "output_type": "stream",
     "text": [
      "Saved image 0.png. Clear screen now and redraw.\n",
      "Saved image 1.png. Clear screen now and redraw.\n",
      "Saved image 2.png. Clear screen now and redraw.\n",
      "Saved image 3.png. Clear screen now and redraw.\n",
      "Saved image 4.png. Clear screen now and redraw.\n"
     ]
    }
   ],
   "source": [
    "def one_time():\n",
    "    import pyscreenshot as ImageGrab\n",
    "    import time\n",
    "    images_folder = r\"C:\\Users\\prade\\OneDrive\\Documents\\ML Project\\Captured_images\\9\"  # Use r for raw string\n",
    "\n",
    "    for i in range(5):\n",
    "        time.sleep(8)\n",
    "        im = ImageGrab.grab(bbox=(60, 350, 400, 550))  # x1, y1, x2, y2\n",
    "        im.save(f\"{images_folder}\\\\{i}.png\")  # Save the image with double backslash\n",
    "        print(f\"Saved image {i}.png. Clear screen now and redraw.\")\n"
   ]
  },
  {
   "cell_type": "markdown",
   "id": "2af4f98f-f579-4086-93e4-f2e372444297",
   "metadata": {},
   "source": [
    "## 2.Generate Dataset"
   ]
  },
  {
   "cell_type": "code",
   "execution_count": 30,
   "id": "f03998ac-7d02-48b3-9ae2-ceaabf7d9afa",
   "metadata": {},
   "outputs": [],
   "source": [
    "import cv2\n",
    "import csv\n",
    "import glob\n",
    "header =[\"label\"]\n",
    "for i in range(0,784):\n",
    "    header.append(\"pixel\"+str(i))\n",
    "with open('dataset.csv','a') as f:\n",
    "    writer=csv.writer(f)\n",
    "    writer.writerow(header)\n",
    "for label in range(10):\n",
    "    dirList = glob.glob(f\"C:\\\\Users\\\\prade\\\\OneDrive\\\\Documents\\\\ML Project\\\\Captured_images\\\\{label}\\\\*.png\")\n",
    "    for img_path in dirList:\n",
    "        im = cv2.imread(img_path)\n",
    "        im_gray = cv2.cvtColor(im, cv2.COLOR_BGR2GRAY)\n",
    "        im_gray = cv2.GaussianBlur(im_gray, (15, 15), 0)\n",
    "        roi = cv2.resize(im_gray, (28, 28), interpolation=cv2.INTER_AREA)\n",
    "        data = [label]  # Start the data list with the label\n",
    "        rows, cols = roi.shape\n",
    "\n",
    "        # Add pixel one by one into data array\n",
    "        for i in range(rows):\n",
    "            for j in range(cols):\n",
    "                k = roi[i, j]\n",
    "                data.append(1 if k > 100 else 0)  # More concise pixel assignment\n",
    "\n",
    "        # Write the row to the CSV file\n",
    "        with open('dataset.csv', 'a', newline='') as f:  # Use newline=''\n",
    "            writer = csv.writer(f)\n",
    "            writer.writerow(data)  # Append the correct data, not header\n"
   ]
  },
  {
   "cell_type": "markdown",
   "id": "7e27bb6a-3d7d-438a-b756-c3bf12729104",
   "metadata": {},
   "source": [
    "## Loading the dataset"
   ]
  },
  {
   "cell_type": "code",
   "execution_count": 31,
   "id": "b824c483-7763-4456-b923-5d20cd307ea8",
   "metadata": {},
   "outputs": [
    {
     "name": "stdout",
     "output_type": "stream",
     "text": [
      "    label  pixel0  pixel1  pixel2  pixel3  pixel4  pixel5  pixel6  pixel7  \\\n",
      "93      8       0       0       0       0       0       0       0       0   \n",
      "89      7       0       0       0       0       0       0       0       0   \n",
      "75      4       0       0       0       0       0       0       0       0   \n",
      "23  label  pixel0  pixel1  pixel2  pixel3  pixel4  pixel5  pixel6  pixel7   \n",
      "86      6       0       0       0       0       0       0       0       0   \n",
      "..    ...     ...     ...     ...     ...     ...     ...     ...     ...   \n",
      "40  label  pixel0  pixel1  pixel2  pixel3  pixel4  pixel5  pixel6  pixel7   \n",
      "6   label  pixel0  pixel1  pixel2  pixel3  pixel4  pixel5  pixel6  pixel7   \n",
      "1   label  pixel0  pixel1  pixel2  pixel3  pixel4  pixel5  pixel6  pixel7   \n",
      "95      8       0       0       0       0       0       0       0       0   \n",
      "14  label  pixel0  pixel1  pixel2  pixel3  pixel4  pixel5  pixel6  pixel7   \n",
      "\n",
      "    pixel8  ...  pixel774  pixel775  pixel776  pixel777  pixel778  pixel779  \\\n",
      "93       0  ...         0         0         0         0         0         0   \n",
      "89       0  ...         0         0         0         0         0         0   \n",
      "75       0  ...         0         0         0         0         0         0   \n",
      "23  pixel8  ...  pixel774  pixel775  pixel776  pixel777  pixel778  pixel779   \n",
      "86       0  ...         0         0         0         0         0         0   \n",
      "..     ...  ...       ...       ...       ...       ...       ...       ...   \n",
      "40  pixel8  ...  pixel774  pixel775  pixel776  pixel777  pixel778  pixel779   \n",
      "6   pixel8  ...  pixel774  pixel775  pixel776  pixel777  pixel778  pixel779   \n",
      "1   pixel8  ...  pixel774  pixel775  pixel776  pixel777  pixel778  pixel779   \n",
      "95       0  ...         0         0         0         0         0         0   \n",
      "14  pixel8  ...  pixel774  pixel775  pixel776  pixel777  pixel778  pixel779   \n",
      "\n",
      "    pixel780  pixel781  pixel782  pixel783  \n",
      "93         0         0         0         0  \n",
      "89         0         0         0         0  \n",
      "75         0         0         0         0  \n",
      "23  pixel780  pixel781  pixel782  pixel783  \n",
      "86         0         0         0         0  \n",
      "..       ...       ...       ...       ...  \n",
      "40  pixel780  pixel781  pixel782  pixel783  \n",
      "6   pixel780  pixel781  pixel782  pixel783  \n",
      "1   pixel780  pixel781  pixel782  pixel783  \n",
      "95         0         0         0         0  \n",
      "14  pixel780  pixel781  pixel782  pixel783  \n",
      "\n",
      "[102 rows x 785 columns]\n"
     ]
    }
   ],
   "source": [
    "import pandas as pd \n",
    "from sklearn.utils import shuffle \n",
    "#0,....,1.....,2.....\n",
    "#5,3,1,0,2,5,.......\n",
    " \n",
    "data = pd.read_csv('dataset.csv')\n",
    "data = shuffle(data)\n",
    "print(data)"
   ]
  },
  {
   "cell_type": "markdown",
   "id": "5601c269-1cd1-49e0-b66d-5f1a162be9fe",
   "metadata": {},
   "source": [
    "## Separation of Dependent and Independent Variavle"
   ]
  },
  {
   "cell_type": "code",
   "execution_count": 32,
   "id": "f3b39615-9145-48b9-8aba-96a44226a901",
   "metadata": {},
   "outputs": [],
   "source": [
    "X=data.drop([\"label\"],axis=1)\n",
    "Y=data[\"label\"]"
   ]
  },
  {
   "cell_type": "markdown",
   "id": "609d1890-fdc4-441f-8eae-7ce616132949",
   "metadata": {},
   "source": [
    "### Preview of one image using Matplotlib"
   ]
  },
  {
   "cell_type": "code",
   "execution_count": 33,
   "id": "8981a5e5-c8df-4241-b71a-0330557c6915",
   "metadata": {},
   "outputs": [
    {
     "name": "stdout",
     "output_type": "stream",
     "text": [
      "4\n"
     ]
    }
   ],
   "source": [
    "%matplotlib inline\n",
    "import matplotlib.pyplot as plt\n",
    "import cv2\n",
    "idx = 6\n",
    "img = X.iloc[idx].values.reshape(28,28)  # Reshaping a 784-length array into a 28x28 image\n",
    "print(Y.iloc[idx])  # Printing the label for the image\n"
   ]
  },
  {
   "cell_type": "markdown",
   "id": "e6301f1d-9249-4a33-9193-9789f5b9d93c",
   "metadata": {},
   "source": [
    "## Train-Test Split "
   ]
  },
  {
   "cell_type": "code",
   "execution_count": 34,
   "id": "fd644b84-87e0-4c81-8945-d5cf5144adcf",
   "metadata": {},
   "outputs": [],
   "source": [
    "import pandas as pd\n",
    "from sklearn.model_selection import train_test_split\n",
    "from sklearn.svm import SVC\n",
    "import joblib\n",
    "import os\n",
    "\n",
    "# Assuming X and Y are already defined as your features and labels\n",
    "# Convert categorical variables to numeric using one-hot encoding\n",
    "X = pd.get_dummies(X)\n",
    "\n",
    "# Split the data into training and testing sets with stratification\n",
    "train_x, test_x, train_y, test_y = train_test_split(X, Y, test_size=0.2, random_state=6, stratify=Y)\n"
   ]
  },
  {
   "cell_type": "markdown",
   "id": "603be30d-39af-42bf-beb0-3fbf24d5273a",
   "metadata": {},
   "source": [
    "## 3.Fit the model using SVC and calculate accuracy"
   ]
  },
  {
   "cell_type": "markdown",
   "id": "49dcbf86-d20e-46dd-8303-669576116177",
   "metadata": {},
   "source": [
    "### Fit the model using SVC and also to save the model using joblib."
   ]
  },
  {
   "cell_type": "code",
   "execution_count": 41,
   "id": "b9ae02d9-cf67-4f2e-9c2e-6539a915ee0a",
   "metadata": {},
   "outputs": [
    {
     "name": "stdout",
     "output_type": "stream",
     "text": [
      "Accuracy = 0.7142857142857143\n",
      "Cross-validated scores: [0.9047619  0.85714286 0.7        0.8        0.7       ]\n",
      "Mean accuracy: 0.7923809523809524\n"
     ]
    }
   ],
   "source": [
    "# Check unique classes in train_y\n",
    "#print(\"Unique classes in train_y:\", train_y.unique())\n",
    "#print(\"Number of unique classes in train_y:\", len(train_y.unique()))\n",
    "\n",
    "# Check if the model directory exists, if not create it\n",
    "if not os.path.exists('model'):\n",
    "    os.makedirs('model')\n",
    "\n",
    "# Initialize the Support Vector Classifier with a linear kernel\n",
    "classifier = SVC(kernel=\"linear\", random_state=6)\n",
    "\n",
    "# Train the classifier\n",
    "classifier.fit(train_x, train_y)\n",
    "\n",
    "# Save the trained model using joblib\n",
    "joblib.dump(classifier, \"model/digit_recognizer.pkl\")\n",
    "\n",
    "#Test the model to ensure it was trained properly\n",
    "accuracy = classifier.score(test_x, test_y)\n",
    "#print(f\"Model accuracy: {accuracy:.4f}\")\n",
    "# Print the entire target variable Y\n",
    "\n",
    "from sklearn import metrics \n",
    "prediction =classifier.predict(test_x)\n",
    "print(\"Accuracy =\" ,metrics.accuracy_score(prediction,test_y))\n",
    "#print(\"Target variable Y:\", Y)\n",
    "#print(\"Unique classes in Y:\", Y.unique())\n",
    "#print(\"Number of unique classes in Y:\", len(Y.unique()))\n",
    "from sklearn.model_selection import cross_val_score\n",
    "\n",
    "scores = cross_val_score(classifier, X, Y, cv=5)\n",
    "print(\"Cross-validated scores:\", scores)\n",
    "print(\"Mean accuracy:\", scores.mean())\n",
    "\n"
   ]
  },
  {
   "cell_type": "markdown",
   "id": "4e003cc5-271e-4f37-8612-e574a02fc5f5",
   "metadata": {},
   "source": [
    "### Prediction of image drawn in Paint"
   ]
  },
  {
   "cell_type": "code",
   "execution_count": null,
   "id": "7b1485b7-fd6b-4bbb-857e-b4037932414c",
   "metadata": {},
   "outputs": [],
   "source": [
    "import joblib\n",
    "import cv2\n",
    "import numpy as np\n",
    "import time\n",
    "import pyscreenshot as ImageGrab\n",
    "import os\n",
    "\n",
    "# Load the pre-trained model\n",
    "model = joblib.load(r\"C:\\Users\\prade\\OneDrive\\Documents\\ML Project\\model\\digit_recognizer\")\n",
    "\n",
    "# Specify the image folder and ensure it exists\n",
    "images_folder = r\"C:\\Users\\prade\\OneDrive\\Documents\\ML Project\\img\\\\\"\n",
    "if not os.path.exists(images_folder):\n",
    "    os.makedirs(images_folder)\n",
    "\n",
    "while True:\n",
    "    # Capture the screen within the specified coordinates (bbox)\n",
    "    img = ImageGrab.grab(bbox=(60, 350, 400, 550))\n",
    "    \n",
    "    # Save the captured image in the designated folder\n",
    "    img.save(images_folder + \"img.png\")\n",
    "    \n",
    "    # Load the saved image and process it using OpenCV\n",
    "    im = cv2.imread(images_folder + \"img.png\")\n",
    "    im_gray = cv2.cvtColor(im, cv2.COLOR_BGR2GRAY)\n",
    "    im_gray = cv2.GaussianBlur(im_gray, (15, 15), 0)\n",
    "\n",
    "    # Apply binary thresholding to the image\n",
    "    ret, im_th = cv2.threshold(im_gray, 100, 255, cv2.THRESH_BINARY)\n",
    "    \n",
    "    # Resize the image to 28x28 pixels\n",
    "    roi = cv2.resize(im_th, (28, 28), interpolation=cv2.INTER_AREA)\n",
    "\n",
    "    rows, cols = roi.shape\n",
    "    X = []\n",
    "\n",
    "    # Convert the image to a 1D array of pixel values\n",
    "    for i in range(rows):\n",
    "        for j in range(cols):\n",
    "            k = roi[i, j]\n",
    "            X.append(1 if k > 100 else 0)\n",
    "\n",
    "    # Use the loaded model to make predictions\n",
    "    predictions = model.predict([X])\n",
    "    print(\"Prediction:\", predictions[0])\n",
    "    \n",
    "    # Display the prediction on the image using OpenCV\n",
    "    cv2.putText(im, \"Prediction: \" + str(predictions[0]), (20, 20), 0, 0.8, (0, 255, 0), 2, cv2.LINE_AA)\n",
    "    \n",
    "    # Show the processed image with the prediction\n",
    "    cv2.startWindowThread()\n",
    "    cv2.namedWindow(\"Result\")\n",
    "    cv2.imshow(\"Result\", im)\n",
    "    \n",
    "    # Wait for a key press; break the loop if 'Enter' is pressed\n",
    "    if cv2.waitKey(1) == 13:  # ASCII value 13 is 'Enter'\n",
    "        break\n",
    "\n",
    "# Close all OpenCV windows\n",
    "cv2.destroyAllWindows()\n"
   ]
  }
 ],
 "metadata": {
  "kernelspec": {
   "display_name": "Python 3 (ipykernel)",
   "language": "python",
   "name": "python3"
  },
  "language_info": {
   "codemirror_mode": {
    "name": "ipython",
    "version": 3
   },
   "file_extension": ".py",
   "mimetype": "text/x-python",
   "name": "python",
   "nbconvert_exporter": "python",
   "pygments_lexer": "ipython3",
   "version": "3.12.4"
  }
 },
 "nbformat": 4,
 "nbformat_minor": 5
}
